{
 "cells": [
  {
   "cell_type": "code",
   "execution_count": 188,
   "metadata": {
    "scrolled": false
   },
   "outputs": [
    {
     "name": "stdout",
     "output_type": "stream",
     "text": [
      "\n",
      "Results:\n",
      "\n",
      "Activated arcs: \n",
      "\n",
      "  Arc     Cost\n",
      "(0, 1)  =  5.385164807134504\n",
      "(1, 0)  =  5.385164807134504\n",
      "(2, 4)  =  3.0\n",
      "(3, 5)  =  4.47213595499958\n",
      "(4, 2)  =  3.0\n",
      "(5, 3)  =  4.47213595499958\n",
      "\n",
      "Total Cost: 25.71460152426817\n",
      "[[ 3. 10.]\n",
      " [ 1.  5.]\n",
      " [ 7.  8.]\n",
      " [10.  1.]\n",
      " [ 4.  8.]\n",
      " [ 8.  5.]]\n"
     ]
    },
    {
     "data": {
      "image/png": "[encoded data removed]",
      "text/plain": [
       "<Figure size 432x288 with 1 Axes>"
      ]
     },
     "metadata": {},
     "output_type": "display_data"
    }
   ],
   "source": [
    "import numpy as np\n",
    "from scipy.optimize import linprog\n",
    "from basic_utils import nn2na\n",
    "import random \n",
    "from matplotlib import pyplot as plt\n",
    "\n",
    "\n",
    "# Nodes quantity. We can make an larger or smaller example changing this value.\n",
    "qNodes = 6\n",
    "\n",
    "\n",
    "# Cost Vector. Dim(C) = {1, N^2}\n",
    "# C = []\n",
    "# random.seed(a=3)\n",
    "# for i in range(qNodes*(qNodes-1)):\n",
    "#     C.append(random.randint(1,10))\n",
    "# Cost Vector. Dim(C) = {1, N^2}\n",
    "\n",
    "C = []\n",
    "random.seed(a=10)\n",
    "for i in range(qNodes):\n",
    "    for j in range(2):\n",
    "        if i != j:\n",
    "            p[i, j] = random.randint(1,10) \n",
    "        \n",
    "for i in range(qNodes):\n",
    "    for j in range(qNodes):\n",
    "        if i != j:\n",
    "            C.append(distance.euclidean(p[i], p[j])) \n",
    "\n",
    "        \n",
    "NN = np.ones(shape=(qNodes,qNodes), dtype=np.int8)\n",
    "np.fill_diagonal(NN,0)\n",
    "\n",
    "\n",
    "# A Matrix. Dim(Aeq) = {2N, A}\n",
    "NA, arcs = nn2na(NN)\n",
    "Aeq1 = np.where(NA == 1, 1, 0)\n",
    "Aeq2 = np.where(NA == -1, 1, 0)\n",
    "Aeq = np.concatenate((Aeq1, Aeq2), axis=0)\n",
    "\n",
    "# b Vector. Dim(b) = {2N, 1}\n",
    "beq = np.zeros(qNodes*2)\n",
    "beq.fill(1)\n",
    "\n",
    "# Bounds: 0 por lower, Inf for Upper.\n",
    "bounds = tuple([(0, None) for arc in range(0, Aeq.shape[1])])\n",
    "\n",
    "# print(\"Input arguments:\\n\\n\",\n",
    "# \"\\n- Aeq matrix:\\n\", Aeq,\n",
    "# \"\\n- Cost matrix: \\n\", C,\n",
    "# \"\\n- beq vector: \\n\", beq,\n",
    "# \"\\n- Bounds: \\n\", bounds\n",
    "# )\n",
    "\n",
    "#OPTIMIZE:\n",
    "result = linprog(C, A_eq=Aeq, b_eq=beq, bounds=bounds, method='simplex')\n",
    "\n",
    "print(\"\\nResults:\")\n",
    "print(\"\\nActivated arcs: \")\n",
    "print(\"\\n  Arc     Cost\")\n",
    "for i in range(len(result.x)):\n",
    "    if result.x[i] != 0:\n",
    "        print(arcs[i], \" = \", C[i])\n",
    "    \n",
    "print(\"\\nTotal Cost:\", result.fun)\n",
    "print(p)\n",
    "x = [i[0] for i in p]\n",
    "y = [i[1] for i in p]\n",
    "for i in range(6):\n",
    "  plt.plot(x[i:i+2], y[i:i+2], 'ro-')  \n",
    "\n",
    "plt.show()"
   ]
  },
  {
   "cell_type": "code",
   "execution_count": 211,
   "metadata": {},
   "outputs": [
    {
     "data": {
      "image/png": "[encoded data removed]",
      "text/plain": [
       "<Figure size 432x288 with 1 Axes>"
      ]
     },
     "metadata": {},
     "output_type": "display_data"
    },
    {
     "name": "stdout",
     "output_type": "stream",
     "text": [
      "(0, 1)  =  5.385164807134504\n",
      "(1, 0)  =  5.385164807134504\n",
      "(2, 4)  =  3.0\n",
      "(3, 5)  =  4.47213595499958\n",
      "(4, 2)  =  3.0\n",
      "(5, 3)  =  4.47213595499958\n",
      "(0, 1)\n"
     ]
    }
   ],
   "source": [
    "import matplotlib.pyplot as plt\n",
    "x1, y1 = [1, 2], [3, 4]\n",
    "x2, y2 = [1, 10], [3, 2]\n",
    "plt.plot(x1, y1, x2, y2, marker = 'o')\n",
    "plt.show()\n",
    "\n",
    "for i in range(len(result.x)):\n",
    "    if result.x[i] != 0:\n",
    "        activated.append(arcs[i])\n",
    "        print(arcs[i], \" = \", C[i])\n",
    "print(activated[0])\n"
   ]
  }
 ],
 "metadata": {
  "kernelspec": {
   "display_name": "Python 3",
   "language": "python",
   "name": "python3"
  },
  "language_info": {
   "codemirror_mode": {
    "name": "ipython",
    "version": 3
   },
   "file_extension": ".py",
   "mimetype": "text/x-python",
   "name": "python",
   "nbconvert_exporter": "python",
   "pygments_lexer": "ipython3",
   "version": "3.6.5"
  }
 },
 "nbformat": 4,
 "nbformat_minor": 2
}
